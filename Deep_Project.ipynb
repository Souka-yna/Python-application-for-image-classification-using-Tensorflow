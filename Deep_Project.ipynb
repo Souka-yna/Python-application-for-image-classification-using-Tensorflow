{
  "nbformat": 4,
  "nbformat_minor": 0,
  "metadata": {
    "colab": {
      "provenance": [],
      "collapsed_sections": []
    },
    "kernelspec": {
      "name": "python3",
      "display_name": "Python 3"
    },
    "language_info": {
      "name": "python"
    }
  },
  "cells": [
    {
      "cell_type": "code",
      "execution_count": null,
      "metadata": {
        "id": "NB9cbKt9a3wY"
      },
      "outputs": [],
      "source": [
        "import tensorflow as tf\n",
        "from tensorflow.keras import datasets\n",
        "import matplotlib.pyplot as plt\n",
        "import numpy as np"
      ]
    },
    {
      "cell_type": "code",
      "source": [
        "(train_images, train_labels), (test_images, test_labels) = datasets.cifar10.load_data()"
      ],
      "metadata": {
        "colab": {
          "base_uri": "https://localhost:8080/"
        },
        "id": "i986XP6XbAo3",
        "outputId": "0b82923c-8b96-4335-cc3e-5dc67c259fe2"
      },
      "execution_count": null,
      "outputs": [
        {
          "output_type": "stream",
          "name": "stdout",
          "text": [
            "Downloading data from https://www.cs.toronto.edu/~kriz/cifar-10-python.tar.gz\n",
            "170500096/170498071 [==============================] - 4s 0us/step\n",
            "170508288/170498071 [==============================] - 4s 0us/step\n"
          ]
        }
      ]
    },
    {
      "cell_type": "code",
      "source": [
        "class CifarHelper():\n",
        "    \n",
        "    def __init__(self):\n",
        "        \n",
        "        self.i = 0\n",
        "        \n",
        "        # Intialize some empty variables for later on\n",
        "        self.training_images = None\n",
        "        self.training_labels = None\n",
        "        \n",
        "        self.test_images = None\n",
        "        self.test_labels = None\n",
        "    \n",
        "    def set_up_images(self):\n",
        "        \n",
        "        print(\"Setting Up Training Images and Labels\")\n",
        "        \n",
        "        self.training_images = train_images / 255.0\n",
        "        self.training_labels = self.one_hot_encode(train_labels) \n",
        "        \n",
        "        print(\"Setting Up Test Images and Labels\")\n",
        "        \n",
        "        self.test_images = test_images / 255.0\n",
        "        self.test_labels = self.one_hot_encode(test_labels)\n",
        "\n",
        "    def one_hot_encode(self, vec):\n",
        "\n",
        "        n = len(vec)\n",
        "        out = np.zeros((n, 10))\n",
        "        for i in range(n):\n",
        "            out[i, vec[i]] = 1\n",
        "        \n",
        "        return out\n",
        "\n",
        "        \n",
        "    def next_batch(self, batch_size):\n",
        "        \n",
        "        x = self.training_images[self.i:self.i+batch_size]\n",
        "        y = self.training_labels[self.i:self.i+batch_size]\n",
        "        self.i = (self.i + batch_size) % len(self.training_images)\n",
        "        return x, y"
      ],
      "metadata": {
        "id": "YBYlggK-bGqI"
      },
      "execution_count": null,
      "outputs": []
    },
    {
      "cell_type": "code",
      "source": [
        "ch = CifarHelper()\n",
        "ch.set_up_images()"
      ],
      "metadata": {
        "colab": {
          "base_uri": "https://localhost:8080/"
        },
        "id": "KUZeOb9_bQea",
        "outputId": "915dec2b-59df-4aae-e919-16f06c2ad334"
      },
      "execution_count": null,
      "outputs": [
        {
          "output_type": "stream",
          "name": "stdout",
          "text": [
            "Setting Up Training Images and Labels\n",
            "Setting Up Test Images and Labels\n"
          ]
        }
      ]
    },
    {
      "cell_type": "code",
      "source": [
        "# Convolutional layer\n",
        "def conv_layer(input_x,w,b):\n",
        "\n",
        "  y = tf.nn.conv2d(input=input_x,filters=w,strides=[1,1,1,1],padding='SAME') + b\n",
        "\n",
        "  y = tf.nn.relu(y)\n",
        "\n",
        "  return y"
      ],
      "metadata": {
        "id": "hkHy49yMbYI3"
      },
      "execution_count": null,
      "outputs": []
    },
    {
      "cell_type": "code",
      "source": [
        "# Pooling layer\n",
        "def maxPool_layer(x,poolSize):\n",
        "\n",
        "  return tf.nn.max_pool2d(input=x,ksize=[1,poolSize,poolSize,1],strides=[1,poolSize,poolSize,1],padding=\"SAME\")"
      ],
      "metadata": {
        "id": "lf2UuIDjbh6z"
      },
      "execution_count": null,
      "outputs": []
    },
    {
      "cell_type": "code",
      "source": [
        "# Fully connected layer\n",
        "def fullyConnected_layer(input_layer,w,b):\n",
        "\n",
        "  y = tf.matmul(input_layer,w) + b\n",
        "\n",
        "  return y"
      ],
      "metadata": {
        "id": "vMl202oXblp6"
      },
      "execution_count": null,
      "outputs": []
    },
    {
      "cell_type": "code",
      "source": [
        "def get_tfVariable(shape, name):\n",
        "\n",
        "  return tf.Variable(tf.random.truncated_normal(shape,stddev=0.1), name=name, trainable=True, dtype=tf.float32)\n",
        "\n",
        "class my_model():\n",
        "\n",
        "  def __init__(self):\n",
        "    \n",
        "    self.pool_size = 2\n",
        "    self.dropout = 0.5\n",
        "    self.nclasses = 10\n",
        "\n",
        "    self.shapes = [\n",
        "    [5, 5, 3, 32], \n",
        "    [5, 5, 32, 64],\n",
        "    [8*8*64,512],\n",
        "    [512, self.nclasses]\n",
        "    ]\n",
        "\n",
        "    self.weights = []\n",
        "    for i in range(len(self.shapes)):\n",
        "      self.weights.append( get_tfVariable(self.shapes[i] , 'weight{}'.format( i ) ) )\n",
        "\n",
        "    self.bias = []\n",
        "    for i in range(len(self.shapes)):\n",
        "      self.bias.append( get_tfVariable([1,self.shapes[i][-1]] , 'bias{}'.format( i ) ) )\n",
        "\n",
        "\n",
        "\n",
        "  def run(self, x_input):\n",
        "    \n",
        "    conv1 = conv_layer(x_input,self.weights[0],self.bias[0]) \n",
        "    pool1 = maxPool_layer(conv1,poolSize=self.pool_size)\n",
        "    \n",
        "    conv2 = conv_layer(pool1,self.weights[1],self.bias[1]) \n",
        "    pool2 = maxPool_layer(conv2,poolSize=self.pool_size)\n",
        "    \n",
        "    flat1 = tf.reshape(pool2,[-1,pool2.shape[1]*pool2.shape[2]*pool2.shape[3]])\n",
        "    \n",
        "    fully1 = tf.nn.relu(fullyConnected_layer(flat1,self.weights[2],self.bias[2]))\n",
        "    \n",
        "    fully1_dropout = tf.nn.dropout(fully1,rate=self.dropout)\n",
        "    \n",
        "    y_pred = fullyConnected_layer(fully1_dropout,self.weights[3],self.bias[3])\n",
        "\n",
        "    return y_pred\n",
        "\n",
        "  def trainable_variables(self):\n",
        "\n",
        "    return self.weights + self.bias"
      ],
      "metadata": {
        "id": "P6FKvpBwbp0v"
      },
      "execution_count": null,
      "outputs": []
    },
    {
      "cell_type": "code",
      "source": [
        "model = my_model()"
      ],
      "metadata": {
        "id": "ZFlAjhgobvQj"
      },
      "execution_count": null,
      "outputs": []
    },
    {
      "cell_type": "code",
      "source": [
        "def loss_function(y_pred,y_true):\n",
        "    \n",
        "    return tf.nn.softmax_cross_entropy_with_logits(labels=tf.stop_gradient(y_true),logits=y_pred)"
      ],
      "metadata": {
        "id": "TJyfn_yTbyt_"
      },
      "execution_count": null,
      "outputs": []
    },
    {
      "cell_type": "code",
      "source": [
        "optimizer = tf.optimizers.Adam(learning_rate=0.001)"
      ],
      "metadata": {
        "id": "EembNb65b3mn"
      },
      "execution_count": null,
      "outputs": []
    },
    {
      "cell_type": "code",
      "source": [
        "def train_step( model, x_input , y_true, epoch):\n",
        "\n",
        "  epoch_accuracy = None\n",
        "  epoch_loss_avg = None\n",
        "    \n",
        "  with tf.GradientTape() as tape:\n",
        "        \n",
        "    # Get the predictions\n",
        "    preds = model.run(x_input)\n",
        "        \n",
        "    # Calc the loss\n",
        "    current_loss = loss_function(preds,y_true)\n",
        "    \n",
        "    # Get the gradients\n",
        "    grads = tape.gradient(current_loss, model.trainable_variables())\n",
        "    \n",
        "    # Update the weights\n",
        "    optimizer.apply_gradients(zip(grads, model.trainable_variables()))\n",
        "    \n",
        "    if epoch%100 == 0:\n",
        "\n",
        "      y_pred = model.run(ch.test_images)\n",
        "      matches  = tf.equal(tf.math.argmax(y_pred,1), tf.math.argmax(ch.test_labels,1))\n",
        "\n",
        "      epoch_accuracy = tf.reduce_mean(tf.cast(matches,tf.float32))\n",
        "      epoch_loss_avg = tf.reduce_mean(current_loss)\n",
        "\n",
        "      print(\"--- On epoch {} ---\".format(epoch))\n",
        "      tf.print(\"Accuracy: \", epoch_accuracy, \"| Loss: \",epoch_loss_avg)\n",
        "      print(\"\\n\")\n",
        "\n",
        "    return epoch_accuracy,epoch_loss_avg"
      ],
      "metadata": {
        "id": "awrAEyYtb5Mq"
      },
      "execution_count": null,
      "outputs": []
    },
    {
      "cell_type": "code",
      "source": [
        "num_epochs = 5000\n",
        "batch_size = 100\n",
        "\n",
        "train_loss_results = []\n",
        "train_accuracy_results = []\n",
        "\n",
        "for epoch in range(num_epochs):\n",
        "    \n",
        "  # Get next batch\n",
        "  batch_x, batch_y = ch.next_batch(batch_size)\n",
        "    \n",
        "  # Train the model\n",
        "  epoch_accuracy, epoch_loss_avg = train_step(model, batch_x, batch_y, epoch)\n",
        "\n",
        "  if(epoch_loss_avg is not None):\n",
        "    train_loss_results.append(epoch_loss_avg)\n",
        "    train_accuracy_results.append(epoch_accuracy)\n",
        "\n",
        "plt.plot(train_loss_results)\n",
        "plt.title('Loss')\n",
        "plt.show()\n",
        "plt.title('Accuracy')\n",
        "plt.plot(train_accuracy_results)\n",
        "plt.show()"
      ],
      "metadata": {
        "colab": {
          "base_uri": "https://localhost:8080/",
          "height": 1000
        },
        "id": "DrwpvUJMcAgo",
        "outputId": "66b81257-64ae-413e-9464-4613d575f9a3"
      },
      "execution_count": null,
      "outputs": [
        {
          "output_type": "stream",
          "name": "stdout",
          "text": [
            "--- On epoch 0 ---\n",
            "Accuracy:  0.1008 | Loss:  8.53578949\n",
            "\n",
            "\n",
            "--- On epoch 100 ---\n",
            "Accuracy:  0.3712 | Loss:  1.61025071\n",
            "\n",
            "\n",
            "--- On epoch 200 ---\n",
            "Accuracy:  0.4373 | Loss:  1.64894116\n",
            "\n",
            "\n",
            "--- On epoch 300 ---\n",
            "Accuracy:  0.4661 | Loss:  1.41963947\n",
            "\n",
            "\n",
            "--- On epoch 400 ---\n",
            "Accuracy:  0.4789 | Loss:  1.29361248\n",
            "\n",
            "\n",
            "--- On epoch 500 ---\n",
            "Accuracy:  0.5219 | Loss:  1.36562252\n",
            "\n",
            "\n",
            "--- On epoch 600 ---\n",
            "Accuracy:  0.5371 | Loss:  1.14305913\n",
            "\n",
            "\n",
            "--- On epoch 700 ---\n",
            "Accuracy:  0.556 | Loss:  1.31754744\n",
            "\n",
            "\n",
            "--- On epoch 800 ---\n",
            "Accuracy:  0.5453 | Loss:  1.2478354\n",
            "\n",
            "\n",
            "--- On epoch 900 ---\n",
            "Accuracy:  0.5631 | Loss:  0.937306046\n",
            "\n",
            "\n",
            "--- On epoch 1000 ---\n",
            "Accuracy:  0.5891 | Loss:  1.0882479\n",
            "\n",
            "\n",
            "--- On epoch 1100 ---\n",
            "Accuracy:  0.5851 | Loss:  0.882329166\n",
            "\n",
            "\n",
            "--- On epoch 1200 ---\n",
            "Accuracy:  0.6014 | Loss:  0.960128784\n",
            "\n",
            "\n",
            "--- On epoch 1300 ---\n",
            "Accuracy:  0.5904 | Loss:  1.14636016\n",
            "\n",
            "\n",
            "--- On epoch 1400 ---\n",
            "Accuracy:  0.5968 | Loss:  0.781337917\n",
            "\n",
            "\n",
            "--- On epoch 1500 ---\n",
            "Accuracy:  0.6095 | Loss:  0.991386712\n",
            "\n",
            "\n",
            "--- On epoch 1600 ---\n",
            "Accuracy:  0.6202 | Loss:  0.862222433\n",
            "\n",
            "\n",
            "--- On epoch 1700 ---\n",
            "Accuracy:  0.6277 | Loss:  0.851165593\n",
            "\n",
            "\n",
            "--- On epoch 1800 ---\n",
            "Accuracy:  0.607 | Loss:  1.04485464\n",
            "\n",
            "\n",
            "--- On epoch 1900 ---\n",
            "Accuracy:  0.635 | Loss:  0.676870286\n",
            "\n",
            "\n",
            "--- On epoch 2000 ---\n",
            "Accuracy:  0.6293 | Loss:  0.828770876\n",
            "\n",
            "\n",
            "--- On epoch 2100 ---\n",
            "Accuracy:  0.6287 | Loss:  0.725703657\n",
            "\n",
            "\n",
            "--- On epoch 2200 ---\n",
            "Accuracy:  0.6432 | Loss:  0.74276793\n",
            "\n",
            "\n",
            "--- On epoch 2300 ---\n",
            "Accuracy:  0.6247 | Loss:  0.758315206\n",
            "\n",
            "\n",
            "--- On epoch 2400 ---\n",
            "Accuracy:  0.6427 | Loss:  0.642429113\n",
            "\n",
            "\n",
            "--- On epoch 2500 ---\n",
            "Accuracy:  0.6353 | Loss:  0.646901\n",
            "\n",
            "\n",
            "--- On epoch 2600 ---\n",
            "Accuracy:  0.6431 | Loss:  0.706906259\n",
            "\n",
            "\n",
            "--- On epoch 2700 ---\n",
            "Accuracy:  0.6393 | Loss:  0.772246122\n",
            "\n",
            "\n",
            "--- On epoch 2800 ---\n",
            "Accuracy:  0.6447 | Loss:  0.6422171\n",
            "\n",
            "\n",
            "--- On epoch 2900 ---\n",
            "Accuracy:  0.6449 | Loss:  0.602981508\n",
            "\n",
            "\n",
            "--- On epoch 3000 ---\n",
            "Accuracy:  0.6422 | Loss:  0.67888695\n",
            "\n",
            "\n",
            "--- On epoch 3100 ---\n",
            "Accuracy:  0.6534 | Loss:  0.650844097\n",
            "\n",
            "\n",
            "--- On epoch 3200 ---\n",
            "Accuracy:  0.6417 | Loss:  0.662267864\n",
            "\n",
            "\n",
            "--- On epoch 3300 ---\n",
            "Accuracy:  0.6423 | Loss:  0.61207062\n",
            "\n",
            "\n",
            "--- On epoch 3400 ---\n",
            "Accuracy:  0.6516 | Loss:  0.487439\n",
            "\n",
            "\n",
            "--- On epoch 3500 ---\n",
            "Accuracy:  0.6525 | Loss:  0.4961465\n",
            "\n",
            "\n",
            "--- On epoch 3600 ---\n",
            "Accuracy:  0.6523 | Loss:  0.592523575\n",
            "\n",
            "\n",
            "--- On epoch 3700 ---\n",
            "Accuracy:  0.6567 | Loss:  0.489086121\n",
            "\n",
            "\n",
            "--- On epoch 3800 ---\n",
            "Accuracy:  0.652 | Loss:  0.537516534\n",
            "\n",
            "\n",
            "--- On epoch 3900 ---\n",
            "Accuracy:  0.6499 | Loss:  0.498947501\n",
            "\n",
            "\n",
            "--- On epoch 4000 ---\n",
            "Accuracy:  0.6485 | Loss:  0.484569818\n",
            "\n",
            "\n",
            "--- On epoch 4100 ---\n",
            "Accuracy:  0.6492 | Loss:  0.473658\n",
            "\n",
            "\n",
            "--- On epoch 4200 ---\n",
            "Accuracy:  0.6471 | Loss:  0.480001539\n",
            "\n",
            "\n",
            "--- On epoch 4300 ---\n",
            "Accuracy:  0.6524 | Loss:  0.39294517\n",
            "\n",
            "\n",
            "--- On epoch 4400 ---\n",
            "Accuracy:  0.6381 | Loss:  0.419113129\n",
            "\n",
            "\n",
            "--- On epoch 4500 ---\n",
            "Accuracy:  0.6534 | Loss:  0.445033252\n",
            "\n",
            "\n",
            "--- On epoch 4600 ---\n",
            "Accuracy:  0.6398 | Loss:  0.372417569\n",
            "\n",
            "\n",
            "--- On epoch 4700 ---\n",
            "Accuracy:  0.6456 | Loss:  0.450857162\n",
            "\n",
            "\n",
            "--- On epoch 4800 ---\n",
            "Accuracy:  0.6549 | Loss:  0.445937276\n",
            "\n",
            "\n",
            "--- On epoch 4900 ---\n",
            "Accuracy:  0.6455 | Loss:  0.318014205\n",
            "\n",
            "\n"
          ]
        },
        {
          "output_type": "display_data",
          "data": {
            "image/png": "[encoded data removed]",
            "text/plain": [
              "<Figure size 432x288 with 1 Axes>"
            ]
          },
          "metadata": {
            "needs_background": "light"
          }
        },
        {
          "output_type": "display_data",
          "data": {
            "image/png": "[encoded data removed]",
            "text/plain": [
              "<Figure size 432x288 with 1 Axes>"
            ]
          },
          "metadata": {
            "needs_background": "light"
          }
        }
      ]
    },
    {
      "cell_type": "code",
      "source": [
        "n = 784\n",
        "pred = model.run(ch.test_images[n:n+1])\n",
        "tf.print(tf.math.argmax(pred,1))\n",
        "tf.print(tf.math.argmax(ch.test_labels[n:n+1],1))"
      ],
      "metadata": {
        "colab": {
          "base_uri": "https://localhost:8080/"
        },
        "id": "6AUp8XBMcF2C",
        "outputId": "6eacf55c-6392-400e-f4aa-4e4811d30e6a"
      },
      "execution_count": null,
      "outputs": [
        {
          "output_type": "stream",
          "name": "stdout",
          "text": [
            "[7]\n",
            "[7]\n"
          ]
        }
      ]
    }
  ]
}